{
 "cells": [
  {
   "cell_type": "code",
   "execution_count": 1,
   "metadata": {
    "collapsed": true
   },
   "outputs": [],
   "source": [
    "# in anaconda3 terminal:\n",
    "# jupyter notebook --NotebookApp.iopub_data_rate_limit=1.0e10\n",
    "import csv\n",
    "import statistics as s"
   ]
  },
  {
   "cell_type": "code",
   "execution_count": 2,
   "outputs": [],
   "source": [
    "tmp = []\n",
    "with open('new_test.csv') as csvfile:\n",
    "    csv_data = csv.reader(csvfile, delimiter=';')\n",
    "    for row in csv_data:\n",
    "        tmp.append(row)"
   ],
   "metadata": {
    "collapsed": false,
    "pycharm": {
     "name": "#%%\n"
    }
   }
  },
  {
   "cell_type": "code",
   "execution_count": 5,
   "outputs": [],
   "source": [
    "data = []\n",
    "for row in tmp:\n",
    "    if row != [] and row[0]!='bits_len':\n",
    "        results = [int(i) for i in row[-1].split(',')]\n",
    "        mean = s.mean(results)\n",
    "        median = s.median(results)\n",
    "        variance = s.variance(results, mean)\n",
    "        std_deviation = s.stdev(results)\n",
    "        row[-1] = results\n",
    "        row.append([mean, median, variance, std_deviation])\n",
    "        data.append(row)\n",
    "# print(data)"
   ],
   "metadata": {
    "collapsed": false,
    "pycharm": {
     "name": "#%%\n"
    }
   }
  },
  {
   "cell_type": "code",
   "execution_count": 6,
   "outputs": [],
   "source": [
    "data = data[1:]\n",
    "data_map = {}\n",
    "for row in data:\n",
    "    try:\n",
    "        if data_map[row[0]]:\n",
    "            pass\n",
    "    except KeyError:\n",
    "        data_map[row[0]] = {}\n",
    "\n",
    "    try:\n",
    "        if data_map[row[0]][row[1]]:\n",
    "            pass\n",
    "    except KeyError:\n",
    "        data_map[row[0]][row[1]] = {}\n",
    "\n",
    "    try:\n",
    "        if data_map[row[0]][row[1]][row[2]]:\n",
    "            pass\n",
    "    except KeyError:\n",
    "        data_map[row[0]][row[1]][row[2]] = {}\n",
    "\n",
    "    try:\n",
    "        if data_map[row[0]][row[1]][row[2]][row[3]]:\n",
    "            pass\n",
    "    except KeyError:\n",
    "        data_map[row[0]][row[1]][row[2]][row[3]] = {}\n",
    "\n",
    "    try:\n",
    "        if data_map[row[0]][row[1]][row[2]][row[3]][row[4]]:\n",
    "            pass\n",
    "    except KeyError:\n",
    "        data_map[row[0]][row[1]][row[2]][row[3]][row[4]] = {}\n",
    "\n",
    "\n",
    "    data_map[row[0]][row[1]][row[2]][row[3]][row[4]] = row[5]"
   ],
   "metadata": {
    "collapsed": false,
    "pycharm": {
     "name": "#%%\n"
    }
   }
  },
  {
   "cell_type": "code",
   "execution_count": null,
   "outputs": [],
   "source": [
    "bits_len = [i for i in range(128, 353, 8)]\n",
    "Ls = [2, 3, 4]\n",
    "BERs = [1, 2, 3]\n",
    "\n",
    "N_K_map = []\n",
    "\n",
    "\n",
    "for bit_l in bits_len:\n",
    "    for l in Ls:\n",
    "        for ber in BERs:\n",
    "            for n in data_map[bit_l][l][ber].keys():\n",
    "                for k in data_map[bit_l][l][ber][n].keys():\n",
    "                    res = []\n",
    "                    data_map[bit_l][l][ber][n][k].append([min())\n",
    "\n",
    "\n"
   ],
   "metadata": {
    "collapsed": false,
    "pycharm": {
     "name": "#%%\n"
    }
   }
  }
 ],
 "metadata": {
  "kernelspec": {
   "display_name": "Python 3",
   "language": "python",
   "name": "python3"
  },
  "language_info": {
   "codemirror_mode": {
    "name": "ipython",
    "version": 2
   },
   "file_extension": ".py",
   "mimetype": "text/x-python",
   "name": "python",
   "nbconvert_exporter": "python",
   "pygments_lexer": "ipython2",
   "version": "2.7.6"
  }
 },
 "nbformat": 4,
 "nbformat_minor": 0
}
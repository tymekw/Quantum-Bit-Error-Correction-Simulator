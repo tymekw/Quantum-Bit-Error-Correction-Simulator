{
 "cells": [
  {
   "cell_type": "code",
   "execution_count": 2,
   "metadata": {
    "collapsed": true
   },
   "outputs": [],
   "source": [
    "# in anaconda3 terminal:\n",
    "# jupyter notebook --NotebookApp.iopub_data_rate_limit=1.0e10\n",
    "import csv\n",
    "import statistics as s\n",
    "import matplotlib.pyplot as plt"
   ]
  },
  {
   "cell_type": "code",
   "execution_count": 11,
   "outputs": [],
   "source": [
    "tmp = []\n",
    "with open('data.csv') as csvfile:\n",
    "    csv_data = csv.reader(csvfile, delimiter=';')\n",
    "    for row in csv_data:\n",
    "        tmp.append(row)"
   ],
   "metadata": {
    "collapsed": false,
    "pycharm": {
     "name": "#%%\n"
    }
   }
  },
  {
   "cell_type": "code",
   "execution_count": 12,
   "outputs": [],
   "source": [
    "data = []\n",
    "for row in tmp:\n",
    "    if row != [] and row[0]!='bits_len':\n",
    "        results = [int(i) for i in row[-1].split(',')]\n",
    "        mean = s.mean(results)\n",
    "        median = s.median(results)\n",
    "        variance = s.variance(results, mean)\n",
    "        std_deviation = s.stdev(results)\n",
    "        row[-1] = results\n",
    "        row.append([mean, median, variance, std_deviation])\n",
    "        data.append(row)\n",
    "# print(data)"
   ],
   "metadata": {
    "collapsed": false,
    "pycharm": {
     "name": "#%%\n"
    }
   }
  },
  {
   "cell_type": "code",
   "execution_count": 37,
   "outputs": [],
   "source": [
    "d = ['a'*7]\n",
    "with open(\"data_updated1.csv\", 'w+', newline='') as f:\n",
    "    w = csv.writer(f, delimiter=',')\n",
    "    w.writerow([\"bits\", \"L\", \"BER\", \"N\", \"K\",\"mean\", \"median\", \"variance\", \"std dev\"])\n",
    "    for row in data:\n",
    "        new_row = []\n",
    "        for el in row:\n",
    "            if type(el)==list:\n",
    "                if len(el)<6:\n",
    "                    for i in el:\n",
    "                        new_row.append(i)\n",
    "                    # new_row.append(';')\n",
    "            else:\n",
    "                new_row.append(el)\n",
    "                # new_row.append(';')\n",
    "        w.writerow(new_row)\n"
   ],
   "metadata": {
    "collapsed": false,
    "pycharm": {
     "name": "#%%\n"
    }
   }
  },
  {
   "cell_type": "code",
   "execution_count": 4,
   "outputs": [],
   "source": [
    "data = data[1:]\n",
    "data_map = {}\n",
    "for row in data:\n",
    "    try:\n",
    "        if data_map[row[0]]:\n",
    "            pass\n",
    "    except KeyError:\n",
    "        data_map[row[0]] = {}\n",
    "\n",
    "    try:\n",
    "        if data_map[row[0]][row[1]]:\n",
    "            pass\n",
    "    except KeyError:\n",
    "        data_map[row[0]][row[1]] = {}\n",
    "\n",
    "    try:\n",
    "        if data_map[row[0]][row[1]][row[2]]:\n",
    "            pass\n",
    "    except KeyError:\n",
    "        data_map[row[0]][row[1]][row[2]] = {}\n",
    "\n",
    "    try:\n",
    "        if data_map[row[0]][row[1]][row[2]][row[3]]:\n",
    "            pass\n",
    "    except KeyError:\n",
    "        data_map[row[0]][row[1]][row[2]][row[3]] = {}\n",
    "\n",
    "    try:\n",
    "        if data_map[row[0]][row[1]][row[2]][row[3]][row[4]]:\n",
    "            pass\n",
    "    except KeyError:\n",
    "        data_map[row[0]][row[1]][row[2]][row[3]][row[4]] = {}\n",
    "    try:\n",
    "        if data_map[row[0]][row[1]][row[2]][row[3]][row[4]]['statistics']:\n",
    "            pass\n",
    "    except KeyError:\n",
    "        data_map[row[0]][row[1]][row[2]][row[3]][row[4]]['statistics'] = {}\n",
    "    try:\n",
    "        if data_map[row[0]][row[1]][row[2]][row[3]][row[4]]['results']:\n",
    "            pass\n",
    "    except KeyError:\n",
    "        data_map[row[0]][row[1]][row[2]][row[3]][row[4]]['results'] = {}\n",
    "    data_map[row[0]][row[1]][row[2]][row[3]][row[4]]['results'] = row[5]\n",
    "    data_map[row[0]][row[1]][row[2]][row[3]][row[4]]['statistics'] = row[6]\n"
   ],
   "metadata": {
    "collapsed": false,
    "pycharm": {
     "name": "#%%\n"
    }
   }
  },
  {
   "cell_type": "code",
   "execution_count": 20,
   "outputs": [
    {
     "data": {
      "text/plain": "<Figure size 432x288 with 1 Axes>",
      "image/png": "[encoded data removed]"
     },
     "metadata": {
      "needs_background": "light"
     },
     "output_type": "display_data"
    },
    {
     "name": "stdout",
     "output_type": "stream",
     "text": [
      "mean=11.864 \n",
      "median=12.0 \n",
      "std deviation=5.995113574699573 \n",
      "variance=35.941386773547094\n"
     ]
    }
   ],
   "source": [
    "res = data_map['128']['2']['2']['43']['1']['results']\n",
    "stat = data_map['128']['2']['2']['43']['1']['statistics']\n",
    "plt.hist(x=res, bins='auto')\n",
    "plt.title(\"Number of required synchronizations for TPM with parameters: \\n N={}, K={}, L={}\".format(34,1,2))\n",
    "plt.xlabel(\"Number of TPM synchronizations\")\n",
    "plt.yticks([])\n",
    "plt.show()\n",
    "print(\"mean={} \\nmedian={} \\nstd deviation={} \\nvariance={}\".format(stat[0],stat[1],stat[3],stat[2]))\n",
    "\n",
    "\n"
   ],
   "metadata": {
    "collapsed": false,
    "pycharm": {
     "name": "#%%\n"
    }
   }
  }
 ],
 "metadata": {
  "kernelspec": {
   "display_name": "Python 3",
   "language": "python",
   "name": "python3"
  },
  "language_info": {
   "codemirror_mode": {
    "name": "ipython",
    "version": 2
   },
   "file_extension": ".py",
   "mimetype": "text/x-python",
   "name": "python",
   "nbconvert_exporter": "python",
   "pygments_lexer": "ipython2",
   "version": "2.7.6"
  }
 },
 "nbformat": 4,
 "nbformat_minor": 0
}